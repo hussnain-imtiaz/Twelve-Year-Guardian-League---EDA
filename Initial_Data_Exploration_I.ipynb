{
 "nbformat": 4,
 "nbformat_minor": 0,
 "metadata": {
  "colab": {
   "provenance": []
  },
  "kernelspec": {
   "name": "python3",
   "display_name": "Python 3"
  },
  "language_info": {
   "name": "python"
  }
 },
 "cells": [
  {
   "cell_type": "code",
   "execution_count": 1,
   "metadata": {
    "colab": {
     "base_uri": "https://localhost:8080/",
     "height": 278
    },
    "id": "GN3_UOz4ZmNY",
    "outputId": "d1ccfff3-98bc-49d2-af53-111a57e28124"
   },
   "source": [
    "import pandas as pd\n",
    "\n",
    "# Load the specific sheet from the Excel file\n",
    "file_path = 'dataset/Twelve Year Guardian League Table.xlsx'\n",
    "sheet_name = 'Institution Level Data'\n",
    "\n",
    "# Read the Excel sheet into a Pandas DataFrame\n",
    "data = pd.read_excel(file_path, sheet_name=sheet_name)\n",
    "\n",
    "# Display first few rows to understand the data structure\n",
    "data_head = data.head()\n",
    "\n",
    "# Check for missing values and data types in the dataset\n",
    "missing_values = data.isnull().sum()\n",
    "data_info = data.dtypes\n",
    "\n",
    "# Show the first few rows, missing values, and data types\n",
    "data_head\n",
    "\n"
   ],
   "outputs": []
  },
  {
   "cell_type": "code",
   "source": [
    "missing_values"
   ],
   "metadata": {
    "colab": {
     "base_uri": "https://localhost:8080/"
    },
    "id": "yqS7dTrQaU9n",
    "outputId": "fed0aa99-91b9-4dc7-82b3-93b32e596cb7"
   },
   "execution_count": 2,
   "outputs": []
  },
  {
   "cell_type": "code",
   "source": [
    "data_info"
   ],
   "metadata": {
    "colab": {
     "base_uri": "https://localhost:8080/"
    },
    "id": "r8dMf4DyaXFn",
    "outputId": "5f4bee23-0271-4c7a-be35-e6f540153dfd"
   },
   "execution_count": 3,
   "outputs": []
  },
  {
   "cell_type": "markdown",
   "source": [
    "**Initial Findings:**\n",
    "\n",
    "**Data Structure:**\n",
    "\n",
    "- The data has columns including Year, Rank, Institution, Satisfied with Course, etc.\n",
    "- The dataset includes various data types (integer, float, object).\n",
    "\n",
    "**Missing Values:**\n",
    "- The Continuation column has a significant number of missing values (951).\n",
    "- Other columns, such as Satisfied with Course, - Satisfied with Teaching, Spend per Student, and Career after 15 months, have some missing values.\n",
    "\n",
    "**Data Types:**\n",
    "Some columns containing numeric data, like Satisfied with Course, Satisfied with Teaching, Satisfied with Feedback, etc., are marked as object types. This indicates potential issues due to data formatting."
   ],
   "metadata": {
    "id": "ohAP0XJWat9p"
   }
  },
  {
   "cell_type": "code",
   "source": [
    "# Function to convert object columns to numeric and handle errors\n",
    "def convert_to_numeric(df, columns):\n",
    "    for col in columns:\n",
    "        df[col] = pd.to_numeric(df[col], errors='coerce')\n",
    "    return df\n",
    "\n",
    "# Columns identified as needing numeric conversion\n",
    "columns_to_convert = [\n",
    "    'Satisfied with Course', 'Satisfied with Teaching', 'Satisfied with Feedback',\n",
    "    'Student to Staff Ratio', 'Spend per Student', 'Value Added Score'\n",
    "]\n",
    "\n",
    "# Convert columns to numeric\n",
    "data = convert_to_numeric(data, columns_to_convert)\n",
    "\n",
    "# Replace missing values with the median for numerical columns\n",
    "data.fillna(data.median(numeric_only=True), inplace=True)\n",
    "\n",
    "# Verify data types and check for remaining missing values\n",
    "cleaned_data_info = data.dtypes\n",
    "remaining_missing_values = data.isnull().sum()\n",
    "\n",
    "# Display the cleaned data info and remaining missing values\n",
    "cleaned_data_info, remaining_missing_values\n"
   ],
   "metadata": {
    "colab": {
     "base_uri": "https://localhost:8080/"
    },
    "id": "L7BbZ5SJaYeT",
    "outputId": "8d4561d3-2bb5-4750-9011-1d0c122e020e"
   },
   "execution_count": 4,
   "outputs": []
  },
  {
   "cell_type": "markdown",
   "source": [
    "### Thought Process and Rationale for Data Cleaning\n",
    "\n",
    "**1. Understanding Data Structure:**\n",
    "- **Initial Inspection:** The initial inspection of the dataset revealed that many numeric columns, such as \"Satisfied with Course,\" were stored as `object` types instead of numeric types (like `float64`). This discrepancy usually occurs due to non-numeric characters or formatting inconsistencies in the data.\n",
    "\n",
    "**2. Identifying Missing Values:**\n",
    "- **Missing Values Analysis:** Several columns had missing values, particularly \"Continuation,\" which had the most (951 missing values). Identifying missing values in a dataset is crucial because they can bias the analysis and lead to incorrect conclusions if not handled properly【1】.\n",
    "\n",
    "**3. Strategy for Data Cleaning:**\n",
    "- **Conversion to Numeric:**\n",
    "  - **Rationale:** Non-numeric values in numeric columns would prevent accurate statistical analysis. Thus, converting these columns to the appropriate data type was essential【2】.\n",
    "  - **Implementation:** Using Pandas’ `to_numeric()` function with the `errors='coerce'` parameter allowed us to convert incompatible values into `NaN` (missing values), making them easier to handle.\n",
    "  \n",
    "- **Missing Value Imputation:**\n",
    "  - **Rationale:** Imputing missing values ensures that statistical calculations remain consistent. We chose to use median imputation because the median is more robust against outliers than the mean【3】.\n",
    "  - **Implementation:** By using Pandas’ `fillna()` method and specifying `numeric_only=True`, we efficiently replaced missing values in all numeric columns.\n",
    "\n",
    "**4. Validation:**\n",
    "- **Outcome:** The dataset now has appropriate data types and no missing values, ready for further analysis and dashboard development.\n",
    "\n",
    "### References\n",
    "1. [Understanding Missing Values](https://www.ncbi.nlm.nih.gov/pmc/articles/PMC3668100/)\n",
    "2. [Data Type Conversion in Pandas](https://pandas.pydata.org/docs/reference/api/pandas.to_numeric.html)\n",
    "3. [Imputation Techniques](https://machinelearningmastery.com/handle-missing-data-python/)\n"
   ],
   "metadata": {
    "id": "TtJGOzldbkoy"
   }
  },
  {
   "cell_type": "code",
   "source": [
    "# exporting the cleaned data for further use\n",
    "data.to_csv('dataset/cleaned_data.csv', index=False)"
   ],
   "metadata": {
    "id": "TV9txW9Za_bB"
   },
   "execution_count": 8,
   "outputs": []
  },
  {
   "cell_type": "code",
   "source": [],
   "metadata": {
    "id": "KD5Re0KrcHmb"
   },
   "execution_count": null,
   "outputs": []
  }
 ]
}
